{
 "cells": [
  {
   "cell_type": "code",
   "execution_count": 1,
   "metadata": {},
   "outputs": [],
   "source": [
    "from spellsource.context import Context\n",
    "from spellsource.behaviour import *\n",
    "from spellsource.utils import simulate\n",
    "from tqdm import tqdm"
   ]
  },
  {
   "cell_type": "code",
   "execution_count": 30,
   "metadata": {},
   "outputs": [],
   "source": [
    "import pandas as pd\n",
    "import random\n",
    "import re\n",
    "import collections"
   ]
  },
  {
   "cell_type": "code",
   "execution_count": 3,
   "metadata": {},
   "outputs": [],
   "source": [
    "arena = pd.read_csv('cards.csv')\n",
    "ctx = Context()"
   ]
  },
  {
   "cell_type": "code",
   "execution_count": 26,
   "metadata": {},
   "outputs": [],
   "source": [
    "def generate_random_arena_deck(cards: pd.DataFrame, draft_class: str, deck_id: int):\n",
    "    player_cards = cards[cards['Draft Class'] == draft_class]['Card Name']\n",
    "    result = \"\"\"### {}\n",
    "# Class: {}\n",
    "# Format: Standard\n",
    "# Year of the Raven\n",
    "#\n",
    "\"\"\".format(deck_id, draft_class)\n",
    "    for i in range(30):\n",
    "        result += \"# 1x (2) {}\\n\".format(random.choice(player_cards))\n",
    "    return result\n",
    "\n",
    "def get_deck_cards(deck: str):\n",
    "    result = re.findall(r'# 1x \\(2\\) (.*)', deck)\n",
    "    return result"
   ]
  },
  {
   "cell_type": "code",
   "execution_count": 22,
   "metadata": {},
   "outputs": [],
   "source": [
    "desks = [generate_random_arena_deck(arena, 'Druid', i) for i in range(100)]"
   ]
  },
  {
   "cell_type": "code",
   "execution_count": 23,
   "metadata": {},
   "outputs": [
    {
     "name": "stderr",
     "output_type": "stream",
     "text": [
      " 79%|███████▉  | 3916/4950 [02:29<00:39, 26.17it/s]\n"
     ]
    }
   ],
   "source": [
    "behaviour = 'PlayRandomBehaviour'\n",
    "result = list(tqdm(simulate(\n",
    "    behaviours=(behaviour, behaviour), \n",
    "    decks=desks,\n",
    "    number=10,\n",
    "    context=ctx)))"
   ]
  },
  {
   "cell_type": "code",
   "execution_count": 29,
   "metadata": {},
   "outputs": [
    {
     "data": {
      "text/plain": [
       "{'decks': ['44', '88'],\n",
       " 'numberOfGames': 10,\n",
       " 'results': [{'WIN_RATE': 0.7,\n",
       "   'GAMES_WON': 7,\n",
       "   'GAMES_LOST': 3,\n",
       "   'DAMAGE_DEALT': 1181,\n",
       "   'HEALING_DONE': 16,\n",
       "   'MANA_SPENT': 693,\n",
       "   'CARDS_PLAYED': 191,\n",
       "   'TURNS_TAKEN': 143,\n",
       "   'ARMOR_GAINED': 87,\n",
       "   'CARDS_DRAWN': 152,\n",
       "   'FATIGUE_DAMAGE': 10,\n",
       "   'MINIONS_PLAYED': 351,\n",
       "   'SPELLS_CAST': 36,\n",
       "   'HERO_POWER_USED': 32},\n",
       "  {'WIN_RATE': 0.3,\n",
       "   'GAMES_WON': 3,\n",
       "   'GAMES_LOST': 7,\n",
       "   'DAMAGE_DEALT': 1144,\n",
       "   'HEALING_DONE': 5,\n",
       "   'MANA_SPENT': 693,\n",
       "   'CARDS_PLAYED': 228,\n",
       "   'TURNS_TAKEN': 138,\n",
       "   'ARMOR_GAINED': 35,\n",
       "   'CARDS_DRAWN': 138,\n",
       "   'MINIONS_PLAYED': 372,\n",
       "   'SPELLS_CAST': 16,\n",
       "   'HERO_POWER_USED': 35,\n",
       "   'WEAPONS_EQUIPPED': 6,\n",
       "   'WEAPONS_PLAYED': 6,\n",
       "   'CARDS_DISCARDED': 1}]}"
      ]
     },
     "execution_count": 29,
     "metadata": {},
     "output_type": "execute_result"
    }
   ],
   "source": [
    "result[0]"
   ]
  },
  {
   "cell_type": "code",
   "execution_count": 37,
   "metadata": {},
   "outputs": [],
   "source": [
    "win_prob = collections.Counter()\n",
    "occur = collections.Counter()\n",
    "for matchup in result:\n",
    "    for index in range(2):\n",
    "        deck = desks[int(matchup['decks'][index])]\n",
    "        match_result = matchup['results'][index]\n",
    "        for card in set(get_deck_cards(deck)):\n",
    "            win_prob[card] += match_result['WIN_RATE']\n",
    "            occur[card] += 1"
   ]
  },
  {
   "cell_type": "code",
   "execution_count": 45,
   "metadata": {},
   "outputs": [],
   "source": [
    "win_rate = (pd.Series(win_prob) / pd.Series(occur)).sort_values(ascending=False)"
   ]
  },
  {
   "cell_type": "code",
   "execution_count": 55,
   "metadata": {},
   "outputs": [
    {
     "data": {
      "text/plain": [
       "0.6052272727272731"
      ]
     },
     "execution_count": 55,
     "metadata": {},
     "output_type": "execute_result"
    }
   ],
   "source": [
    "win_rate['Ultimate Infestation']"
   ]
  },
  {
   "cell_type": "code",
   "execution_count": null,
   "metadata": {},
   "outputs": [],
   "source": []
  }
 ],
 "metadata": {
  "kernelspec": {
   "display_name": "Python 3",
   "language": "python",
   "name": "python3"
  },
  "language_info": {
   "codemirror_mode": {
    "name": "ipython",
    "version": 3
   },
   "file_extension": ".py",
   "mimetype": "text/x-python",
   "name": "python",
   "nbconvert_exporter": "python",
   "pygments_lexer": "ipython3",
   "version": "3.6.6"
  }
 },
 "nbformat": 4,
 "nbformat_minor": 2
}
