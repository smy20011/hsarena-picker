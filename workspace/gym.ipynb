{
 "cells": [
  {
   "cell_type": "code",
   "execution_count": 1,
   "metadata": {},
   "outputs": [],
   "source": [
    "from spellsource.context import Context\n",
    "from spellsource.behaviour import *\n",
    "from spellsource.utils import simulate\n",
    "from tqdm import tqdm"
   ]
  },
  {
   "cell_type": "code",
   "execution_count": 2,
   "metadata": {},
   "outputs": [
    {
     "name": "stderr",
     "output_type": "stream",
     "text": [
      "/usr/lib/python3.6/importlib/_bootstrap.py:219: RuntimeWarning: numpy.dtype size changed, may indicate binary incompatibility. Expected 96, got 88\n",
      "  return f(*args, **kwds)\n",
      "/usr/lib/python3.6/importlib/_bootstrap.py:219: RuntimeWarning: numpy.dtype size changed, may indicate binary incompatibility. Expected 96, got 88\n",
      "  return f(*args, **kwds)\n"
     ]
    }
   ],
   "source": [
    "import pandas as pd\n",
    "import random\n",
    "import re\n",
    "import collections"
   ]
  },
  {
   "cell_type": "code",
   "execution_count": 3,
   "metadata": {},
   "outputs": [],
   "source": [
    "arena = pd.read_csv('cards.csv')\n",
    "ctx = Context()"
   ]
  },
  {
   "cell_type": "code",
   "execution_count": 4,
   "metadata": {},
   "outputs": [],
   "source": [
    "def deck_to_string(cards: List[str], deck_id: str, draft_class: str):\n",
    "    result = \"\"\"### {}\n",
    "# Class: {}\n",
    "# Format: Standard\n",
    "# Year of the Raven\n",
    "#\n",
    "\"\"\".format(deck_id, draft_class)\n",
    "    for card in cards:\n",
    "        result += \"# 1x (2) {}\\n\".format(card)\n",
    "    return result\n",
    "\n",
    "def generate_random_arena_deck(cards: pd.DataFrame, draft_class: str, deck_id: int):\n",
    "    player_cards = cards[cards['Draft Class'] == draft_class]['Card Name']\n",
    "    deck = [random.choice(player_cards) for i in range(30)]\n",
    "    return deck_to_string(deck, deck_id, draft_class)\n",
    "\n",
    "def get_deck_cards(deck: str):\n",
    "    result = re.findall(r'# 1x \\(2\\) (.*)', deck)\n",
    "    return result"
   ]
  },
  {
   "cell_type": "code",
   "execution_count": 14,
   "metadata": {},
   "outputs": [],
   "source": [
    "desks = [generate_random_arena_deck(arena, 'Druid', i) for i in range(100)]"
   ]
  },
  {
   "cell_type": "code",
   "execution_count": 15,
   "metadata": {},
   "outputs": [
    {
     "name": "stderr",
     "output_type": "stream",
     "text": [
      "  0%|          | 14/4950 [00:36<5:01:59,  3.67s/it]\n"
     ]
    }
   ],
   "source": [
    "behaviour = 'GameStateValueBehaviour'\n",
    "result = list(tqdm(simulate(\n",
    "    behaviours=(behaviour, behaviour), \n",
    "    decks=desks,\n",
    "    number=10,\n",
    "    context=ctx)))"
   ]
  },
  {
   "cell_type": "code",
   "execution_count": 9,
   "metadata": {},
   "outputs": [],
   "source": [
    "win_prob = collections.Counter()\n",
    "occur = collections.Counter()\n",
    "for matchup in result:\n",
    "    for index in range(2):\n",
    "        deck = desks[int(matchup['decks'][index])]\n",
    "        match_result = matchup['results'][index]\n",
    "        for card in set(get_deck_cards(deck)):\n",
    "            win_prob[card] += match_result['WIN_RATE']\n",
    "            occur[card] += 1"
   ]
  },
  {
   "cell_type": "code",
   "execution_count": 10,
   "metadata": {},
   "outputs": [],
   "source": [
    "win_rate = (pd.Series(win_prob) / pd.Series(occur)).sort_values(ascending=False)"
   ]
  },
  {
   "cell_type": "code",
   "execution_count": 11,
   "metadata": {},
   "outputs": [],
   "source": [
    "best_deck = deck_to_string(win_rate[:30].index, \"Best Deck\", \"Druid\")"
   ]
  },
  {
   "cell_type": "code",
   "execution_count": 13,
   "metadata": {},
   "outputs": [
    {
     "name": "stderr",
     "output_type": "stream",
     "text": [
      "100%|██████████| 1/1 [00:19<00:00, 19.39s/it]\n"
     ]
    },
    {
     "data": {
      "text/plain": [
       "[{'decks': ['Best Deck', 'Random Deck'],\n",
       "  'numberOfGames': 100,\n",
       "  'results': [{'WIN_RATE': 0.79,\n",
       "    'GAMES_WON': 79,\n",
       "    'GAMES_LOST': 21,\n",
       "    'DAMAGE_DEALT': 5216,\n",
       "    'MANA_SPENT': 3774,\n",
       "    'CARDS_PLAYED': 1095,\n",
       "    'TURNS_TAKEN': 896,\n",
       "    'ARMOR_GAINED': 119,\n",
       "    'CARDS_DRAWN': 901,\n",
       "    'MINIONS_PLAYED': 2085,\n",
       "    'SPELLS_CAST': 50,\n",
       "    'HERO_POWER_USED': 107,\n",
       "    'CARDS_DISCARDED': 1},\n",
       "   {'WIN_RATE': 0.21,\n",
       "    'GAMES_WON': 21,\n",
       "    'GAMES_LOST': 79,\n",
       "    'DAMAGE_DEALT': 7654,\n",
       "    'HEALING_DONE': 5,\n",
       "    'MANA_SPENT': 3954,\n",
       "    'CARDS_PLAYED': 1417,\n",
       "    'TURNS_TAKEN': 868,\n",
       "    'ARMOR_GAINED': 174,\n",
       "    'CARDS_DRAWN': 869,\n",
       "    'MINIONS_PLAYED': 2317,\n",
       "    'SPELLS_CAST': 227,\n",
       "    'HERO_POWER_USED': 171}]}]"
      ]
     },
     "execution_count": 13,
     "metadata": {},
     "output_type": "execute_result"
    }
   ],
   "source": [
    "list(tqdm(simulate(\n",
    "    behaviours=('GameStateValueBehaviour', 'GameStateValueBehaviour'), \n",
    "    decks=[best_deck, generate_random_arena_deck(arena, 'Druid', 'Random Deck')],\n",
    "    number=100,\n",
    "    context=ctx)))"
   ]
  },
  {
   "cell_type": "code",
   "execution_count": null,
   "metadata": {},
   "outputs": [],
   "source": []
  }
 ],
 "metadata": {
  "kernelspec": {
   "display_name": "Python 3",
   "language": "python",
   "name": "python3"
  },
  "language_info": {
   "codemirror_mode": {
    "name": "ipython",
    "version": 3
   },
   "file_extension": ".py",
   "mimetype": "text/x-python",
   "name": "python",
   "nbconvert_exporter": "python",
   "pygments_lexer": "ipython3",
   "version": "3.6.6"
  }
 },
 "nbformat": 4,
 "nbformat_minor": 2
}
