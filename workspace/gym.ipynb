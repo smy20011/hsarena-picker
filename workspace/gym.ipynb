{
 "cells": [
  {
   "cell_type": "code",
   "execution_count": 1,
   "metadata": {},
   "outputs": [
    {
     "name": "stderr",
     "output_type": "stream",
     "text": [
      "/usr/lib/python3.6/importlib/_bootstrap.py:219: RuntimeWarning: numpy.dtype size changed, may indicate binary incompatibility. Expected 96, got 88\n",
      "  return f(*args, **kwds)\n",
      "/usr/lib/python3.6/importlib/_bootstrap.py:219: RuntimeWarning: numpy.dtype size changed, may indicate binary incompatibility. Expected 96, got 88\n",
      "  return f(*args, **kwds)\n"
     ]
    }
   ],
   "source": [
    "%load_ext autoreload\n",
    "%autoreload 1\n",
    "%aimport arena"
   ]
  },
  {
   "cell_type": "markdown",
   "metadata": {},
   "source": [
    "## Create Random Deck"
   ]
  },
  {
   "cell_type": "code",
   "execution_count": 2,
   "metadata": {},
   "outputs": [],
   "source": [
    "import random\n",
    "import spellsource.utils\n",
    "from collections import Counter, OrderedDict, namedtuple\n",
    "import numpy as np\n",
    "import pandas as pd\n",
    "from spellsource.context import Context\n",
    "from typing import List, Callable"
   ]
  },
  {
   "cell_type": "code",
   "execution_count": 3,
   "metadata": {},
   "outputs": [],
   "source": [
    "RANDOM_DRAFT = lambda _, selection: np.array(selection)[np.eye(3)[np.random.choice(3, len(selection))] == 1]\n",
    "\n",
    "def draft_decks(draft_class: str, number_of_decks: int, strategy: Callable[[List[str]], str]=RANDOM_DRAFT):\n",
    "    card_picker = arena.ArenaCardPicker()\n",
    "    drafts = []\n",
    "    decks = [arena.Deck(draft_class, [], str(i)) for i in range(number_of_decks)]\n",
    "    selections_log = [[] for _ in range(number_of_decks)]\n",
    "    for _ in range(30):\n",
    "        choices = [card_picker.GetCardChoice(draft_class) for _ in range(number_of_decks)]\n",
    "        selection = strategy(decks, choices)\n",
    "        for deck, card_choices, selection, log in zip(decks, choices, selection, selections_log):\n",
    "            deck.cards.append(selection)\n",
    "            log.append(arena.ArenaSelection(card_choices, selection))\n",
    "    return [\n",
    "        arena.Draft(draft_class, selections, str(i))\n",
    "        for i, selections in enumerate(selections_log)\n",
    "    ]\n",
    "\n",
    "deck = draft_decks('Druid', 1)[0]\n",
    "for selection in deck.selections:\n",
    "    assert selection.selected in selection.choices"
   ]
  },
  {
   "cell_type": "code",
   "execution_count": 4,
   "metadata": {},
   "outputs": [],
   "source": [
    "RANDOM_BEHAVIOUR = 'PlayRandomBehaviour'\n",
    "def simulate(ctx: Context, drafts: List[arena.Draft], behaviour: str=RANDOM_BEHAVIOUR, games_per_opponent: int=10):\n",
    "    \"\"\"Start a simulation and return result.\n",
    "    The simulator will let all drafts fight with other opponents for {game_per_opponent} time.\n",
    "    If provided by 100 drafts, there will be 4950 * games_per_opponent simulations.\n",
    "    Returns: returns a iterator of match result.\n",
    "    \"\"\"\n",
    "    decks = [draft.GetDeck().ToHSString() for draft in drafts]\n",
    "    return spellsource.utils.simulate(\n",
    "        behaviours=(behaviour, behaviour),\n",
    "        decks=decks,\n",
    "        number=games_per_opponent,\n",
    "        context=ctx\n",
    "    )"
   ]
  },
  {
   "cell_type": "code",
   "execution_count": 5,
   "metadata": {},
   "outputs": [],
   "source": [
    "ctx = Context()"
   ]
  },
  {
   "cell_type": "code",
   "execution_count": 6,
   "metadata": {},
   "outputs": [
    {
     "name": "stdout",
     "output_type": "stream",
     "text": [
      "45\n"
     ]
    }
   ],
   "source": [
    "CACHE = {}\n",
    "def get_class_cards(draft_class: str):\n",
    "    if draft_class in CACHE:\n",
    "        return CACHE[draft_class]\n",
    "    CACHE[draft_class] = list(arena.ArenaCardPicker().GetAllCards(draft_class))\n",
    "    return CACHE[draft_class]\n",
    "\n",
    "class CardCounter(Counter):\n",
    "    \"\"\"Unlike counter, Card Counter will initialize with a card_list.\n",
    "    Card counter will initialzie each card in card_list with 0 occurance count.\n",
    "    \"\"\"\n",
    "    def __init__(self, card_list, *args, **kwargs):\n",
    "        super(CardCounter, self).__init__(*args, **kwargs)\n",
    "        for card in card_list:\n",
    "            self[card] += 0\n",
    "\n",
    "# Construct training data\n",
    "def construct_training_data(drafts: List[arena.Draft], match_result):\n",
    "    # Count deck winrate\n",
    "    win_rate = Counter()\n",
    "    for item in match_result:\n",
    "        for deck_index in range(2):\n",
    "            win_rate[item['decks'][deck_index]] += item['results'][deck_index]['WIN_RATE']\n",
    "    # Columns in output data shoule be stable, put everycard into the result dict\n",
    "    # to deal with the case that some card are not appeared in drafts.\n",
    "    class_cards = get_class_cards(drafts[0].draft_class)\n",
    "    target = []\n",
    "    decks = []\n",
    "    selections = []\n",
    "    for draft in drafts:\n",
    "        for deck, selection in draft.Iter():\n",
    "            decks.append(deck)\n",
    "            selections.append(selection)\n",
    "            reward = win_rate[deck.name] / (len(drafts) - 1) - 0.5\n",
    "            # In traing, we use cross entropy loss. Loss = E(pi * log(yi))\n",
    "            # For reinforcement learning, the \"loss\" functions is log(P(a|si)) * R(Si)\n",
    "            # P(a|si) is the probibility of taking action p under current policy and state si\n",
    "            # By comparing these two equation, we can find that replace pi in cross entropy\n",
    "            # loss with R(si) will enable us to use traditional classifier to finish RL task\n",
    "            target.append(CardCounter(class_cards, {\n",
    "                selection.selected: reward\n",
    "            }))\n",
    "    return construct_prediction_data(decks, selections), pd.DataFrame(target)\n",
    "\n",
    "def construct_prediction_data(decks: List[arena.Deck], selections: List[arena.ArenaSelection]):\n",
    "    assert len(decks) == len(selections)\n",
    "    deck_data = []\n",
    "    choices_data = []\n",
    "    cards = get_class_cards(decks[0].draft_class)\n",
    "    for deck, selection in zip(decks, selections):\n",
    "        deck_data.append(CardCounter(cards, deck.cards))\n",
    "        choices_data.append(CardCounter(cards, selection.choices))\n",
    "    return pd.concat([pd.DataFrame(deck_data), pd.DataFrame(choices_data)], axis=1, keys=['deck', 'choices'])\n",
    "\n",
    "# Adhoc tests.\n",
    "assert CardCounter(['a', 'b'], {'a': 1}) == {'a': 1, 'b': 0}\n",
    "drafts = draft_decks('Druid', number_of_decks=10)\n",
    "result = list(simulate(ctx, drafts))\n",
    "X, y = construct_training_data(drafts, result)\n",
    "assert len(result) == 45\n",
    "assert X['deck'].sum(axis=1).tolist()[:30] == list(range(30))\n",
    "assert X['choices'].sum(axis=1).tolist()[:30] == list(np.full((30,), 3))\n",
    "assert len(y) == 10 * 30\n",
    "assert list(y.columns) == sorted(list(y.columns))"
   ]
  },
  {
   "cell_type": "code",
   "execution_count": 7,
   "metadata": {},
   "outputs": [],
   "source": [
    "draft_class = 'Druid'\n",
    "draft_cards = sorted(get_class_cards(draft_class))\n",
    "id_to_cards = {enumerate(draft_cards)}\n",
    "cards_to_id = {card: index for index, card in enumerate(draft_cards)}\n",
    "# Create Model\n",
    "from tensorflow.python import keras\n",
    "\n",
    "num_of_cards = arena.ArenaCardPicker()\n",
    "model = keras.Sequential([\n",
    "    keras.layers.InputLayer(input_shape=(len(draft_cards)*2,)),\n",
    "    keras.layers.Dense(len(draft_cards)),\n",
    "    keras.layers.Softmax()\n",
    "])\n",
    "model.compile(optimizer='adam', loss='categorical_crossentropy')"
   ]
  },
  {
   "cell_type": "code",
   "execution_count": 8,
   "metadata": {},
   "outputs": [],
   "source": [
    "def model_draft_policy(model, cards_to_id):\n",
    "    def draft(decks, draft_choices):\n",
    "        draft_choices = pd.DataFrame(draft_choices)\n",
    "        X = construct_prediction_data(decks, draft_choices.apply(\n",
    "            lambda c: arena.ArenaSelection(c.tolist(), None), axis=1\n",
    "        ).tolist())\n",
    "        output = model.predict(X)\n",
    "        choice_ids = draft_choices.applymap(cards_to_id.get)\n",
    "        selected = output[np.arange(output.shape[0]), choice_ids.T].T\n",
    "        selected = np.argmax(selected, axis=1)\n",
    "        return draft_choices.values[np.arange(len(decks)), selected]\n",
    "    return draft\n",
    "    \n",
    "_ = draft_decks(draft_class='Druid', number_of_decks=10, strategy=model_draft_policy(model, cards_to_id))"
   ]
  },
  {
   "cell_type": "code",
   "execution_count": null,
   "metadata": {},
   "outputs": [],
   "source": []
  }
 ],
 "metadata": {
  "kernelspec": {
   "display_name": "Python 3",
   "language": "python",
   "name": "python3"
  },
  "language_info": {
   "codemirror_mode": {
    "name": "ipython",
    "version": 3
   },
   "file_extension": ".py",
   "mimetype": "text/x-python",
   "name": "python",
   "nbconvert_exporter": "python",
   "pygments_lexer": "ipython3",
   "version": "3.6.6"
  }
 },
 "nbformat": 4,
 "nbformat_minor": 2
}
